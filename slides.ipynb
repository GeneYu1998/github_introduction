{
 "cells": [
  {
   "cell_type": "markdown",
   "metadata": {
    "slideshow": {
     "slide_type": "slide"
    }
   },
   "source": [
    "# Git, GitHub and Collaboration\n",
    "\n",
    "\n",
    "### James Percival"
   ]
  },
  {
   "cell_type": "markdown",
   "metadata": {
    "slideshow": {
     "slide_type": "slide"
    }
   },
   "source": [
    "### Why Version control?\n",
    "\n",
    "![drawing](https://imgs.xkcd.com/comics/git.png)"
   ]
  },
  {
   "cell_type": "markdown",
   "metadata": {
    "slideshow": {
     "slide_type": "slide"
    }
   },
   "source": [
    "### Why Version control?\n",
    "\n",
    "![drawing](http://phdcomics.com/comics/archive/phd101212s.gif)"
   ]
  },
  {
   "cell_type": "markdown",
   "metadata": {
    "slideshow": {
     "slide_type": "subslide"
    }
   },
   "source": [
    "- This _isn't_ core reason.\n",
    "\n",
    "- Crazy naming schemes aren't brilliant, but work(ish) for one or two people.\n",
    "\n",
    "- In a group of 10, no chance."
   ]
  },
  {
   "cell_type": "markdown",
   "metadata": {
    "slideshow": {
     "slide_type": "slide"
    }
   },
   "source": [
    "## git Revision [command line]\n",
    "\n",
    "- Create a new repository:\n",
    "  ```\n",
    "  git init\n",
    "  ```\n",
    "  or grab a copy of an existing one:\n",
    "  ```\n",
    "  git clone https://github.com:octocat/hello-world\n",
    "  ```"
   ]
  },
  {
   "cell_type": "markdown",
   "metadata": {
    "slideshow": {
     "slide_type": "subslide"
    }
   },
   "source": [
    "- Add some files:\n",
    "  ```\n",
    "  git add myfile.txt\n",
    "  git commit -m \"A commit message.\"\n",
    "  ```"
   ]
  },
  {
   "cell_type": "markdown",
   "metadata": {
    "slideshow": {
     "slide_type": "subslide"
    }
   },
   "source": [
    "- Publish those changes elsewhere:\n",
    "  ```\n",
    "  git push\n",
    "  ```"
   ]
  },
  {
   "cell_type": "markdown",
   "metadata": {
    "slideshow": {
     "slide_type": "subslide"
    }
   },
   "source": [
    "- Or grab someone else`s changes:\n",
    "  ```\n",
    "  git pull\n",
    "  ```"
   ]
  },
  {
   "cell_type": "markdown",
   "metadata": {
    "slideshow": {
     "slide_type": "slide"
    }
   },
   "source": [
    "## git through VS Code\n",
    "\n",
    "Over to a VS Code window..."
   ]
  },
  {
   "cell_type": "markdown",
   "metadata": {
    "slideshow": {
     "slide_type": "slide"
    }
   },
   "source": [
    "## Avoiding conflicts (seen and unseen):\n",
    "\n",
    "- Agree naming patterns & interfaces early on.\n",
    "- Don't work in one monolithic file (but do have a strategy on how things are split up).\n",
    "- Have tests set up at the boundary between working parties.\n",
    "- Merge/rebase early, merge often (but look at what you're merging).\n",
    "- Keep talking.\n",
    "- Appoint someone to QA\n",
    "- Have well defined branches (but don't let them hang around unmerged)."
   ]
  },
  {
   "cell_type": "markdown",
   "metadata": {
    "slideshow": {
     "slide_type": "slide"
    }
   },
   "source": [
    "## Time to practice:\n",
    "\n",
    "_basic tasks_:\n",
    "\n",
    "- Initialize a new repository (use `git init` on the command line)\n",
    "- Put at least two (small) files into the repository folder, add them for staging and then commit them to the repo (this would use `git add` and `git commit` on the command line)\n",
    "- Make a few changes to the files, then have a look at the status and differences (This would use `git status` and `git diff` on the command line).\n",
    "- Stage and commit the changes.\n",
    "- Look at the train track or the log (This would use `git log` on the command line)."
   ]
  },
  {
   "cell_type": "markdown",
   "metadata": {
    "slideshow": {
     "slide_type": "subslide"
    }
   },
   "source": [
    "_intermediate tasks_:\n",
    "\n",
    "- Create a new branch (use `git checkout -b <name>` on the command line)\n",
    "- Add some new files to the branch.\n",
    "- Merge the branch into the original one (using `git checkout` and `git merge`)\n",
    "- Repeat using a rebase.\n",
    "- Compare the train tracks.\n",
    "- Fix a conflict."
   ]
  },
  {
   "cell_type": "markdown",
   "metadata": {
    "slideshow": {
     "slide_type": "subslide"
    }
   },
   "source": [
    "_advanced tasks_:\n",
    "\n",
    "- revert a change\n",
    "- cherrypick a change\n",
    "- use an interactive rebase (i.e.  `git rebase -i HEAD^^`)"
   ]
  },
  {
   "cell_type": "markdown",
   "metadata": {
    "slideshow": {
     "slide_type": "slide"
    }
   },
   "source": [
    "## Project Management -Waterfall & Agile\n",
    "\n",
    "![drawing](https://upload.wikimedia.org/wikipedia/commons/thumb/e/e2/Waterfall_model.svg/1280px-Waterfall_model.svg.png)"
   ]
  },
  {
   "cell_type": "markdown",
   "metadata": {
    "slideshow": {
     "slide_type": "subslide"
    }
   },
   "source": [
    "- Waterfall: Top down management.\n",
    "- Each stage finishes before next one starts.\n",
    "- Pure form probably doesn't exist.\n",
    "- Theoretically ideal for small projects, large teams & fixed deadlines."
   ]
  },
  {
   "cell_type": "markdown",
   "metadata": {
    "slideshow": {
     "slide_type": "subslide"
    }
   },
   "source": [
    "![drawing](https://upload.wikimedia.org/wikipedia/commons/thumb/8/84/Extreme_Programming.svg/1024px-Extreme_Programming.svg.png)"
   ]
  },
  {
   "cell_type": "markdown",
   "metadata": {
    "slideshow": {
     "slide_type": "slide"
    }
   },
   "source": [
    "- Agile: bottom-up process with iteration\n",
    "- Lots of sprints.\n",
    "- Lots of flavours: Kanban, Scrum, Extreme programming\n",
    "- At its worst, justifies inefficient management & chaotic development"
   ]
  },
  {
   "cell_type": "markdown",
   "metadata": {
    "slideshow": {
     "slide_type": "slide"
    }
   },
   "source": [
    "## GitHub: adding a \"one true repo\" back to git\n",
    "\n",
    "At this point the core site needs no introduction, but time to move beyond \"place to hold code for people to grab."
   ]
  },
  {
   "cell_type": "markdown",
   "metadata": {
    "slideshow": {
     "slide_type": "slide"
    }
   },
   "source": [
    "## GitHub Flow\n",
    "\n",
    "One of many strategies to use git in medium sized groups to code collaboratively:\n",
    "\n",
    "- keep one branch (GitHub calls it `main`) as \"known good\"/production/safe to merge from.\n",
    "- Work in \"feature\" branches. \n",
    "- Use pull requests (PRs) for merges to `main`. (make sure tests run here.)"
   ]
  },
  {
   "cell_type": "markdown",
   "metadata": {
    "slideshow": {
     "slide_type": "slide"
    }
   },
   "source": [
    "## Pull requests and Code review\n",
    "\n",
    "Questions to ask:\n",
    "\n",
    "- What does PR claim to do? Does it?\n",
    "- Is new code in the right place?\n",
    "- Tests, examples and documentation.\n",
    "- Does it meet the project's coding standards?"
   ]
  },
  {
   "cell_type": "markdown",
   "metadata": {
    "slideshow": {
     "slide_type": "subslide"
    }
   },
   "source": [
    "Google's advice:\n",
    "\n",
    "- In general, reviewers should favour approving a PR once it is in a state where it definitely improves the overall code health of the system being worked on, even if the PR isn’t perfect."
   ]
  },
  {
   "cell_type": "markdown",
   "metadata": {
    "slideshow": {
     "slide_type": "subslide"
    }
   },
   "source": [
    "Google's advice:\n",
    "\n",
    "- If you are not in the middle of a focused task, you should do a code review shortly after it comes in...\n",
    "\n",
    "- If you are in the middle of a focused task, such as writing code, don’t interrupt yourself to do a code review."
   ]
  },
  {
   "cell_type": "markdown",
   "metadata": {
    "slideshow": {
     "slide_type": "slide"
    }
   },
   "source": [
    "## Pair Programming\n",
    "\n",
    "Key theme of extreme programming, and can be very productive.\n",
    "\n",
    "- Driver & Navigator: Two sets of eyes capture more mistakes.\n",
    "- Key ideas:\n",
    "  - One person types, and does fine detail.\n",
    "  - One person reads, and does the big picture.\n",
    "  - Both people talk through their ideas."
   ]
  },
  {
   "cell_type": "markdown",
   "metadata": {
    "slideshow": {
     "slide_type": "subslide"
    }
   },
   "source": [
    "  \n",
    "- Several remote options:\n",
    "  - Screen sharing.\n",
    "  - VS Code live share extension.\n",
    "  - Quite a few websites (not always free)."
   ]
  },
  {
   "cell_type": "markdown",
   "metadata": {
    "slideshow": {
     "slide_type": "slide"
    }
   },
   "source": [
    "Next two days:\n",
    "- If you'd like to practice, we'll have some toy projects to work on, or pick your own.\n",
    "- Small groups of 2 to 6."
   ]
  },
  {
   "cell_type": "markdown",
   "metadata": {
    "slideshow": {
     "slide_type": "slide"
    }
   },
   "source": [
    "## Thanks for coming"
   ]
  }
 ],
 "metadata": {
  "jupyter": {
   "jupytext": {
    "text_representation": {
     "extension": ".md",
     "format_name": "myst",
     "format_version": "1.1",
     "jupytext_version": "1.1.0"
    }
   },
   "kernelspec": {
    "display_name": "Python 3",
    "language": "python",
    "name": "python3"
   }
  },
  "kernelspec": {
   "display_name": "Python 3",
   "language": "python",
   "name": "python3"
  },
  "language_info": {
   "codemirror_mode": {
    "name": "ipython",
    "version": 3
   },
   "file_extension": ".py",
   "mimetype": "text/x-python",
   "name": "python",
   "nbconvert_exporter": "python",
   "pygments_lexer": "ipython3",
   "version": "3.7.6"
  },
  "rise": {
   "autolaunch": true,
   "enable_chalkboard": true
  }
 },
 "nbformat": 4,
 "nbformat_minor": 2
}
